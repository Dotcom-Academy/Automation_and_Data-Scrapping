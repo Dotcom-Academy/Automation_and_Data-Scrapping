{
 "cells": [
  {
   "cell_type": "code",
   "execution_count": 26,
   "id": "60a4575c",
   "metadata": {},
   "outputs": [],
   "source": [
    "from bs4 import BeautifulSoup as bs\n",
    "import requests\n",
    "import pandas as pd"
   ]
  },
  {
   "cell_type": "code",
   "execution_count": 13,
   "id": "846fbbf1",
   "metadata": {},
   "outputs": [],
   "source": [
    "url = \"https://www.espncricinfo.com/rankings/content/page/211271.html\"\n",
    "pg = requests.get(url)\n",
    "soup = bs(pg.text,'html.parser')"
   ]
  },
  {
   "cell_type": "code",
   "execution_count": 21,
   "id": "37aaa264",
   "metadata": {},
   "outputs": [],
   "source": [
    "body = soup.find('div',{'class':'ciPhotoContainer'})\n",
    "head = body.findAll('h3')"
   ]
  },
  {
   "cell_type": "code",
   "execution_count": 28,
   "id": "0b15578d",
   "metadata": {},
   "outputs": [
    {
     "data": {
      "text/plain": [
       "['ICC Test Rankings',\n",
       " 'ICC ODI Rankings',\n",
       " 'ICC Twenty20 Rankings',\n",
       " \"ICC Women's ODI Team Rankings\",\n",
       " \"ICC Women's T20 Team Rankings\"]"
      ]
     },
     "execution_count": 28,
     "metadata": {},
     "output_type": "execute_result"
    }
   ],
   "source": [
    "name = [(i.text) for i in head]\n",
    "name"
   ]
  },
  {
   "cell_type": "code",
   "execution_count": 32,
   "id": "0e113a82",
   "metadata": {},
   "outputs": [
    {
     "data": {
      "text/html": [
       "<div>\n",
       "<style scoped>\n",
       "    .dataframe tbody tr th:only-of-type {\n",
       "        vertical-align: middle;\n",
       "    }\n",
       "\n",
       "    .dataframe tbody tr th {\n",
       "        vertical-align: top;\n",
       "    }\n",
       "\n",
       "    .dataframe thead th {\n",
       "        text-align: right;\n",
       "    }\n",
       "</style>\n",
       "<table border=\"1\" class=\"dataframe\">\n",
       "  <thead>\n",
       "    <tr style=\"text-align: right;\">\n",
       "      <th></th>\n",
       "      <th>Pos</th>\n",
       "      <th>Team</th>\n",
       "      <th>Matches</th>\n",
       "      <th>Points</th>\n",
       "      <th>Rating</th>\n",
       "    </tr>\n",
       "  </thead>\n",
       "  <tbody>\n",
       "  </tbody>\n",
       "</table>\n",
       "</div>"
      ],
      "text/plain": [
       "Empty DataFrame\n",
       "Columns: [Pos, Team, Matches, Points, Rating]\n",
       "Index: []"
      ]
     },
     "execution_count": 32,
     "metadata": {},
     "output_type": "execute_result"
    }
   ],
   "source": [
    "column = ['Pos','Team','Matches','Points','Rating']\n",
    "df = pd.DataFrame(columns=column)\n",
    "df"
   ]
  },
  {
   "cell_type": "code",
   "execution_count": 56,
   "id": "37915176",
   "metadata": {},
   "outputs": [
    {
     "name": "stdout",
     "output_type": "stream",
     "text": [
      "Done.\n"
     ]
    }
   ],
   "source": [
    "cnt=0\n",
    "for i in body.findAll('tr'):\n",
    "    row = []\n",
    "    for j in i.findAll('td'):\n",
    "        row.append(j.text)\n",
    "        dic = {}\n",
    "    try:\n",
    "        for k in range(len(df.columns)):\n",
    "                       dic[df.columns[k]] = row[k]\n",
    "        df = df.append(dic,ignore_index = True)\n",
    "    except:\n",
    "        df = pd.DataFrame(columns=column)\n",
    "        table_nm = name[cnt]\n",
    "        cnt += 1\n",
    "    df.to_csv(table_nm+\".csv\",index = False)\n",
    "\n",
    "print(\"Done.\")"
   ]
  },
  {
   "cell_type": "code",
   "execution_count": null,
   "id": "d74c9687",
   "metadata": {},
   "outputs": [],
   "source": []
  },
  {
   "cell_type": "code",
   "execution_count": null,
   "id": "f4fed2c3",
   "metadata": {},
   "outputs": [],
   "source": []
  }
 ],
 "metadata": {
  "kernelspec": {
   "display_name": "Python 3 (ipykernel)",
   "language": "python",
   "name": "python3"
  },
  "language_info": {
   "codemirror_mode": {
    "name": "ipython",
    "version": 3
   },
   "file_extension": ".py",
   "mimetype": "text/x-python",
   "name": "python",
   "nbconvert_exporter": "python",
   "pygments_lexer": "ipython3",
   "version": "3.9.7"
  }
 },
 "nbformat": 4,
 "nbformat_minor": 5
}

{
 "cells": [
  {
   "cell_type": "markdown",
   "id": "879e684e",
   "metadata": {},
   "source": [
    "# Auto_log-in_to_indeed"
   ]
  },
  {
   "cell_type": "code",
   "execution_count": 1,
   "id": "79e3d020",
   "metadata": {},
   "outputs": [],
   "source": [
    "from selenium import webdriver\n",
    "from time import sleep "
   ]
  },
  {
   "cell_type": "markdown",
   "id": "1385104a",
   "metadata": {},
   "source": [
    "### initializing username and password"
   ]
  },
  {
   "cell_type": "code",
   "execution_count": 2,
   "id": "4c0131ec",
   "metadata": {},
   "outputs": [],
   "source": [
    "op = open(\"info.txt\",'r')\n",
    "info = op.read()\n",
    "op.close()\n",
    "\n",
    "info = info.split(\"\\n\")\n",
    "u_nm = info[0]\n",
    "pwd = info[1]"
   ]
  },
  {
   "cell_type": "markdown",
   "id": "29a85ffc",
   "metadata": {},
   "source": [
    "### creating our browser"
   ]
  },
  {
   "cell_type": "code",
   "execution_count": 5,
   "id": "0e99e942",
   "metadata": {},
   "outputs": [
    {
     "name": "stderr",
     "output_type": "stream",
     "text": [
      "C:\\Users\\DELL\\AppData\\Local\\Temp/ipykernel_5816/2587120921.py:1: DeprecationWarning: executable_path has been deprecated, please pass in a Service object\n",
      "  brwsr = webdriver.Chrome(\".\\\\Driver\\\\chromedriver.exe\")\n"
     ]
    }
   ],
   "source": [
    "brwsr = webdriver.Chrome(\".\\\\Driver\\\\chromedriver.exe\") "
   ]
  },
  {
   "cell_type": "code",
   "execution_count": 175,
   "id": "e8cdfa2b",
   "metadata": {},
   "outputs": [],
   "source": [
    "url = \"https://secure.indeed.com/auth?hl=en_IN&co=IN&continue=https%3A%2F%2Fin.indeed.com%2F&tmpl=desktop&service=my&from=gnav-util-homepage&jsContinue=https%3A%2F%2Fin.indeed.com%2F&empContinue=https%3A%2F%2Faccount.indeed.com%2Fmyaccess\"\n",
    "\n",
    "brwsr.get(url)"
   ]
  },
  {
   "cell_type": "markdown",
   "id": "5503e906",
   "metadata": {},
   "source": [
    "#### find the username box, filling the username and click the continue button"
   ]
  },
  {
   "cell_type": "code",
   "execution_count": 176,
   "id": "ded04cbf",
   "metadata": {},
   "outputs": [
    {
     "name": "stderr",
     "output_type": "stream",
     "text": [
      "C:\\Users\\DELL\\AppData\\Local\\Temp/ipykernel_11236/141809927.py:2: DeprecationWarning: find_element_by_* commands are deprecated. Please use find_element() instead\n",
      "  usr_box = brwsr.find_element_by_name(\"__email\")\n",
      "C:\\Users\\DELL\\AppData\\Local\\Temp/ipykernel_11236/141809927.py:7: DeprecationWarning: find_element_by_* commands are deprecated. Please use find_element() instead\n",
      "  cnt_btn = brwsr.find_element_by_xpath(k)\n"
     ]
    }
   ],
   "source": [
    "#usr_box = brwsr.find_element_by_id(\"ifl-InputFormField-3\")\n",
    "usr_box = brwsr.find_element_by_name(\"__email\")\n",
    "usr_box.send_keys(u_nm)\n",
    "\n",
    "k = \"//*[@class ='i-unmask css-157vc5a e8ju0x51']\"\n",
    "k = \"//*[@class = 'pass-FormContent css-8ldjdr eu4oa1w0']/form/button\"\n",
    "cnt_btn = brwsr.find_element_by_xpath(k)\n",
    "cnt_btn.click()"
   ]
  },
  {
   "cell_type": "markdown",
   "id": "468fb994",
   "metadata": {},
   "source": [
    "#### find password box,  filling the password and click the sign in button"
   ]
  },
  {
   "cell_type": "code",
   "execution_count": 177,
   "id": "4d4cf80b",
   "metadata": {},
   "outputs": [
    {
     "name": "stderr",
     "output_type": "stream",
     "text": [
      "C:\\Users\\DELL\\AppData\\Local\\Temp/ipykernel_11236/3762501770.py:2: DeprecationWarning: find_element_by_* commands are deprecated. Please use find_element() instead\n",
      "  pwd_box = brwsr.find_element_by_name(\"__password\")\n",
      "C:\\Users\\DELL\\AppData\\Local\\Temp/ipykernel_11236/3762501770.py:6: DeprecationWarning: find_element_by_* commands are deprecated. Please use find_element() instead\n",
      "  sng_btn = brwsr.find_element_by_xpath(k)\n"
     ]
    }
   ],
   "source": [
    "sleep(1)\n",
    "pwd_box = brwsr.find_element_by_name(\"__password\")\n",
    "pwd_box.send_keys(pwd)\n",
    "\n",
    "k = \"//*[@class ='i-unmask css-1bw1l27 e8ju0x51']\"\n",
    "sng_btn = brwsr.find_element_by_xpath(k)\n",
    "sng_btn.click()\n"
   ]
  },
  {
   "cell_type": "markdown",
   "id": "933e28bd",
   "metadata": {},
   "source": [
    "## find the first job"
   ]
  },
  {
   "cell_type": "code",
   "execution_count": 178,
   "id": "8e693b64",
   "metadata": {},
   "outputs": [
    {
     "name": "stderr",
     "output_type": "stream",
     "text": [
      "C:\\Users\\DELL\\AppData\\Local\\Temp/ipykernel_11236/2565873318.py:5: DeprecationWarning: find_element_by_* commands are deprecated. Please use find_element() instead\n",
      "  job_name = brwsr.find_element_by_xpath(k).get_attribute(\"textContent\")\n"
     ]
    }
   ],
   "source": [
    "sleep(2)\n",
    "brwsr.get(\"https://in.indeed.com/jobs?q=java&l=delhi&from=searchOnHP&vjk=2105255116cb4e2e\")\n",
    "\n",
    "k = \"//div[@class = 'job_seen_beacon']/table[1]/tbody/tr/td/div[1]/h2/a/span\"\n",
    "job_name = brwsr.find_element_by_xpath(k).get_attribute(\"textContent\")\n",
    "#dir(job_name)"
   ]
  },
  {
   "cell_type": "code",
   "execution_count": 179,
   "id": "782c2569",
   "metadata": {},
   "outputs": [
    {
     "name": "stdout",
     "output_type": "stream",
     "text": [
      "Opening for Plain Java Developer\n"
     ]
    }
   ],
   "source": [
    "print(job_name)"
   ]
  }
 ],
 "metadata": {
  "kernelspec": {
   "display_name": "Python 3 (ipykernel)",
   "language": "python",
   "name": "python3"
  },
  "language_info": {
   "codemirror_mode": {
    "name": "ipython",
    "version": 3
   },
   "file_extension": ".py",
   "mimetype": "text/x-python",
   "name": "python",
   "nbconvert_exporter": "python",
   "pygments_lexer": "ipython3",
   "version": "3.9.7"
  }
 },
 "nbformat": 4,
 "nbformat_minor": 5
}

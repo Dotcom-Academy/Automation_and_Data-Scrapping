{
 "cells": [
  {
   "cell_type": "code",
   "execution_count": 27,
   "id": "093485ba",
   "metadata": {},
   "outputs": [
    {
     "name": "stderr",
     "output_type": "stream",
     "text": [
      "C:\\Users\\DELL\\AppData\\Local\\Temp/ipykernel_2156/950763501.py:4: DeprecationWarning: executable_path has been deprecated, please pass in a Service object\n",
      "  brwsr = webdriver.Chrome(\"chromedriver.exe\")\n"
     ]
    }
   ],
   "source": [
    "from selenium import webdriver\n",
    "from time import sleep \n",
    "\n",
    "brwsr = webdriver.Chrome(\"chromedriver.exe\") "
   ]
  },
  {
   "cell_type": "code",
   "execution_count": 33,
   "id": "2adb2212",
   "metadata": {},
   "outputs": [
    {
     "name": "stdout",
     "output_type": "stream",
     "text": [
      "Java Developer\n"
     ]
    },
    {
     "name": "stderr",
     "output_type": "stream",
     "text": [
      "C:\\Users\\DELL\\AppData\\Local\\Temp/ipykernel_2156/2507549764.py:4: DeprecationWarning: find_element_by_* commands are deprecated. Please use find_element() instead\n",
      "  job_name = brwsr.find_element_by_xpath(k).get_attribute(\"textContent\")\n"
     ]
    }
   ],
   "source": [
    "brwsr.get(\"https://in.indeed.com/jobs?q=java&l=delhi&from=searchOnHP&vjk=2105255116cb4e2e\")\n",
    "\n",
    "k = \"//div[@class = 'job_seen_beacon']/table[1]/tbody/tr/td/div[1]/h2/a/span\"\n",
    "job_name = brwsr.find_element_by_xpath(k).get_attribute(\"textContent\")\n",
    "#dir(job_name)\n",
    "print(job_name)"
   ]
  },
  {
   "cell_type": "markdown",
   "id": "d995934d",
   "metadata": {},
   "source": [
    "# using CMD commands through python"
   ]
  },
  {
   "cell_type": "code",
   "execution_count": 2,
   "id": "17b098ad",
   "metadata": {},
   "outputs": [
    {
     "name": "stdout",
     "output_type": "stream",
     "text": [
      "\n",
      "Pinging google.com [142.250.183.46] with 32 bytes of data:\n",
      "Reply from 142.250.183.46: bytes=32 time=49ms TTL=117\n",
      "Reply from 142.250.183.46: bytes=32 time=49ms TTL=117\n",
      "Reply from 142.250.183.46: bytes=32 time=48ms TTL=117\n",
      "Request timed out.\n",
      "\n",
      "Ping statistics for 142.250.183.46:\n",
      "    Packets: Sent = 4, Received = 3, Lost = 1 (25% loss),\n",
      "Approximate round trip times in milli-seconds:\n",
      "    Minimum = 48ms, Maximum = 49ms, Average = 48ms\n",
      "\n"
     ]
    }
   ],
   "source": [
    "from os import popen as cmd\n",
    "\n",
    "print(cmd(\"ping google.com\").read())"
   ]
  },
  {
   "cell_type": "code",
   "execution_count": 4,
   "id": "28cb3a81",
   "metadata": {},
   "outputs": [
    {
     "name": "stdout",
     "output_type": "stream",
     "text": [
      " Volume in drive C has no label.\n",
      " Volume Serial Number is BAFC-F2A1\n",
      "\n",
      " Directory of C:\\Users\\DELL\\Documents\\IIHT\\Automation\n",
      "\n",
      "11/03/2022  12:51 PM    <DIR>          .\n",
      "11/03/2022  12:51 PM    <DIR>          ..\n",
      "11/02/2022  01:53 PM    <DIR>          .ipynb_checkpoints\n",
      "11/02/2022  01:52 PM             5,974 Auto_log-in_to_indeed.ipynb\n",
      "11/02/2022  01:42 PM    <DIR>          Driver\n",
      "11/01/2022  07:22 PM                32 info.txt\n",
      "11/03/2022  12:51 PM             3,620 use_CMD_commands.ipynb\n",
      "               3 File(s)          9,626 bytes\n",
      "               4 Dir(s)  155,638,915,072 bytes free\n",
      "\n"
     ]
    }
   ],
   "source": [
    "print(cmd(\"dir\").read())"
   ]
  }
 ],
 "metadata": {
  "kernelspec": {
   "display_name": "Python 3 (ipykernel)",
   "language": "python",
   "name": "python3"
  },
  "language_info": {
   "codemirror_mode": {
    "name": "ipython",
    "version": 3
   },
   "file_extension": ".py",
   "mimetype": "text/x-python",
   "name": "python",
   "nbconvert_exporter": "python",
   "pygments_lexer": "ipython3",
   "version": "3.9.7"
  }
 },
 "nbformat": 4,
 "nbformat_minor": 5
}

{
 "cells": [
  {
   "cell_type": "code",
   "execution_count": 27,
   "id": "093485ba",
   "metadata": {},
   "outputs": [
    {
     "name": "stderr",
     "output_type": "stream",
     "text": [
      "C:\\Users\\DELL\\AppData\\Local\\Temp/ipykernel_2156/950763501.py:4: DeprecationWarning: executable_path has been deprecated, please pass in a Service object\n",
      "  brwsr = webdriver.Chrome(\"chromedriver.exe\")\n"
     ]
    }
   ],
   "source": [
    "from selenium import webdriver\n",
    "from time import sleep \n",
    "\n",
    "brwsr = webdriver.Chrome(\"chromedriver.exe\") "
   ]
  },
  {
   "cell_type": "code",
   "execution_count": 33,
   "id": "2adb2212",
   "metadata": {},
   "outputs": [
    {
     "name": "stdout",
     "output_type": "stream",
     "text": [
      "Java Developer\n"
     ]
    },
    {
     "name": "stderr",
     "output_type": "stream",
     "text": [
      "C:\\Users\\DELL\\AppData\\Local\\Temp/ipykernel_2156/2507549764.py:4: DeprecationWarning: find_element_by_* commands are deprecated. Please use find_element() instead\n",
      "  job_name = brwsr.find_element_by_xpath(k).get_attribute(\"textContent\")\n"
     ]
    }
   ],
   "source": [
    "brwsr.get(\"https://in.indeed.com/jobs?q=java&l=delhi&from=searchOnHP&vjk=2105255116cb4e2e\")\n",
    "\n",
    "k = \"//div[@class = 'job_seen_beacon']/table[1]/tbody/tr/td/div[1]/h2/a/span\"\n",
    "job_name = brwsr.find_element_by_xpath(k).get_attribute(\"textContent\")\n",
    "#dir(job_name)\n",
    "print(job_name)"
   ]
  },
  {
   "cell_type": "markdown",
   "id": "d995934d",
   "metadata": {},
   "source": [
    "# using CMD commands through python"
   ]
  },
  {
   "cell_type": "code",
   "execution_count": 29,
   "id": "17b098ad",
   "metadata": {},
   "outputs": [
    {
     "data": {
      "text/plain": [
       "'\\nWindows IP Configuration\\n\\n\\nEthernet adapter Ethernet 2:\\n\\n   Media State . . . . . . . . . . . : Media disconnected\\n   Connection-specific DNS Suffix  . : \\n\\nEthernet adapter Ethernet:\\n\\n   Media State . . . . . . . . . . . : Media disconnected\\n   Connection-specific DNS Suffix  . : \\n\\nWireless LAN adapter Local Area Connection* 1:\\n\\n   Media State . . . . . . . . . . . : Media disconnected\\n   Connection-specific DNS Suffix  . : \\n\\nWireless LAN adapter Local Area Connection* 2:\\n\\n   Media State . . . . . . . . . . . : Media disconnected\\n   Connection-specific DNS Suffix  . : \\n\\nWireless LAN adapter Wi-Fi:\\n\\n   Connection-specific DNS Suffix  . : \\n   IPv6 Address. . . . . . . . . . . : fd01::8133:2543:a9e8:81cd\\n   Temporary IPv6 Address. . . . . . : fd01::9504:6bf8:291d:c444\\n   Link-local IPv6 Address . . . . . : fe80::8133:2543:a9e8:81cd%3\\n   IPv4 Address. . . . . . . . . . . : 192.168.34.125\\n   Subnet Mask . . . . . . . . . . . : 255.255.255.0\\n   Default Gateway . . . . . . . . . : fe80::360a:33ff:fef3:13e6%3\\n                                       192.168.34.1\\n\\nEthernet adapter Bluetooth Network Connection:\\n\\n   Media State . . . . . . . . . . . : Media disconnected\\n   Connection-specific DNS Suffix  . : \\n'"
      ]
     },
     "execution_count": 29,
     "metadata": {},
     "output_type": "execute_result"
    }
   ],
   "source": [
    "from os import popen as cmd\n",
    "\n",
    "cmd(\"ipconfig\").read()"
   ]
  }
 ],
 "metadata": {
  "kernelspec": {
   "display_name": "Python 3 (ipykernel)",
   "language": "python",
   "name": "python3"
  },
  "language_info": {
   "codemirror_mode": {
    "name": "ipython",
    "version": 3
   },
   "file_extension": ".py",
   "mimetype": "text/x-python",
   "name": "python",
   "nbconvert_exporter": "python",
   "pygments_lexer": "ipython3",
   "version": "3.9.7"
  }
 },
 "nbformat": 4,
 "nbformat_minor": 5
}
